{
 "cells": [
  {
   "cell_type": "markdown",
   "metadata": {},
   "source": [
    "# Camera Manipulation"
   ]
  },
  {
   "cell_type": "markdown",
   "metadata": {},
   "source": [
    "This is a notebook to demonstrate how **pypho**'s cameras can be manipulated.\n",
    "\n",
    "Typically, you'll want to:\n",
    "1. create a Camera\n",
    "2. attach objects to be visualised with it\n",
    "3. move the camera around\n",
    "4. change its internal parameters (e.g., focal, aperture)\n",
    "5. take a picture\n",
    "6. and repeat some of the previous stages."
   ]
  },
  {
   "cell_type": "code",
   "execution_count": 1,
   "metadata": {},
   "outputs": [],
   "source": [
    "# this is to avoid installing the package for demonstration\n",
    "# you can import it directly when installed\n",
    "import sys\n",
    "sys.path.append(\"../../\") # The notebooks are located in a folder next to the library modules\n",
    "import importlib\n",
    "import numpy as np\n",
    "\n",
    "import pypho\n",
    "from pypho.design import camera, target, graphics"
   ]
  },
  {
   "cell_type": "code",
   "execution_count": 33,
   "metadata": {},
   "outputs": [],
   "source": [
    "# if necessary, when developping, you can reload this by uncommenting this line\n",
    "_ = importlib.reload(camera)\n",
    "_ = importlib.reload(target)\n",
    "_ = importlib.reload(graphics)"
   ]
  },
  {
   "cell_type": "markdown",
   "metadata": {},
   "source": [
    "## Camera creation"
   ]
  },
  {
   "cell_type": "markdown",
   "metadata": {},
   "source": [
    "Cameras can be created either:\n",
    "* from the CameraRegistry, by picking an existing camera definition with `CameraRegistry.get_camera()`.  \n",
    "Note that Cameras are also mounted with a given lens, which must be specified either by its reference in the `CameraRegistry.lense_base` or emulated by specifying its focal length or range.\n",
    "* by copying an existing Camera. When using `Camera.copy()`, a deep copy is performed, which means the two cameras are effectively independent, as expected."
   ]
  },
  {
   "cell_type": "code",
   "execution_count": 2,
   "metadata": {},
   "outputs": [
    {
     "name": "stdout",
     "output_type": "stream",
     "text": [
      "We'll load the camera with the following specifications (camera id: A7RIV, lens id: FE35)\n"
     ]
    },
    {
     "data": {
      "text/plain": [
       "<pypho.design.camera.Camera at 0x1ffaacc2890>"
      ]
     },
     "execution_count": 2,
     "metadata": {},
     "output_type": "execute_result"
    }
   ],
   "source": [
    "# creating a camera by a full specification from the registry\n",
    "## here we will get the first camera and lens ids from the registry\n",
    "## but you'd want to specify the desired names instead\n",
    "cam1_name = camera.CameraRegistry.camera_base.index[0]\n",
    "cam1_lensname = camera.CameraRegistry.lens_base.index[0]\n",
    "print(\"We'll load the camera with the following specifications \"\n",
    "      f\"(camera id: {cam1_name:}, lens id: {cam1_lensname:})\")\n",
    "cam1 = camera.CameraRegistry.get_camera(cam_id= cam1_name, lens_id= cam1_lensname)\n",
    "\n",
    "# note that a helper function is provided for accessing a default camera\n",
    "# which does exactly the same as the previous lines\n",
    "camera.get_default_camera()\n"
   ]
  },
  {
   "cell_type": "code",
   "execution_count": 3,
   "metadata": {},
   "outputs": [
    {
     "data": {
      "text/plain": [
       "<pypho.design.camera.Camera at 0x1ffaacfaa50>"
      ]
     },
     "execution_count": 3,
     "metadata": {},
     "output_type": "execute_result"
    }
   ],
   "source": [
    "# Alternatively, as lenses are not always very well defined \n",
    "# at the stage of designing a photogrammetric study, it can be avoided,\n",
    "# if at least the focal length or focal range,a nd the minimal focus distance, are specified instead.\n",
    "cam2 = camera.CameraRegistry.get_camera(cam_id= \"A7RIV\", focal= 35, min_focus_distance= 0.30)\n",
    "cam2"
   ]
  },
  {
   "cell_type": "code",
   "execution_count": 4,
   "metadata": {},
   "outputs": [
    {
     "name": "stdout",
     "output_type": "stream",
     "text": [
      "Are the two cameras different objects?  True\n"
     ]
    }
   ],
   "source": [
    "# finally, it might be usefull to duplicate a camera from the current settings\n",
    "cam3 = cam2.copy()\n",
    "# of course it makes more sense to do it after some modifications of its state\n",
    "\n",
    "# the two cameras are effectively different entities and will move separately\n",
    "print(\"Are the two cameras different objects? \",cam3 != cam2)"
   ]
  },
  {
   "cell_type": "code",
   "execution_count": 6,
   "metadata": {},
   "outputs": [
    {
     "data": {
      "text/plain": [
       "Index(['name', 'sensor_width', 'sensor_height', 'nb_pixel_width',\n",
       "       'nb_pixel_height', 'pixel_pitch', 'nb_pixel', 'MPix'],\n",
       "      dtype='object')"
      ]
     },
     "execution_count": 6,
     "metadata": {},
     "output_type": "execute_result"
    }
   ],
   "source": [
    "camera.CameraRegistry.camera_base.columns"
   ]
  },
  {
   "cell_type": "code",
   "execution_count": null,
   "metadata": {},
   "outputs": [
    {
     "data": {
      "text/plain": [
       "<pypho.design.camera.Camera at 0x1ffac272450>"
      ]
     },
     "execution_count": 9,
     "metadata": {},
     "output_type": "execute_result"
    }
   ],
   "source": [
    "# Alternatively, a custom Camera can be created directly, provided the following minimal parameters are given\n",
    "# sensor_width, sensor_height, nb_pixel_width, nb_pixel_height, and focal\n",
    "camera.Camera(\n",
    "    sensor_width = 23.6, sensor_height= 15.7, nb_pixel_width= 3200, nb_pixel_height= 2126,\n",
    "    focal = 35\n",
    "    )"
   ]
  },
  {
   "cell_type": "markdown",
   "metadata": {},
   "source": [
    "## Relation to objects and visualisation"
   ]
  },
  {
   "cell_type": "markdown",
   "metadata": {},
   "source": [
    "Camera only makes sense for shooting objects,  \n",
    "so **pypho** provides tools for defining new objects (see [03_target_objects.ipynb](03_target_objects.ipynb)) and attaching the object ot the cameras `Camera.attach_target()`."
   ]
  },
  {
   "cell_type": "code",
   "execution_count": 9,
   "metadata": {},
   "outputs": [],
   "source": [
    "# getting the example dataset Pebble, which is ... a pebble\n",
    "pebble = target.get_pebble_dataset()\n",
    "# we'll move it a bit to make the example more interesting\n",
    "_ = pebble.translate([1.2,1.2,0], inplace=True)"
   ]
  },
  {
   "cell_type": "code",
   "execution_count": 10,
   "metadata": {},
   "outputs": [
    {
     "data": {
      "application/vnd.jupyter.widget-view+json": {
       "model_id": "f95d707212b4456c88ccff06fcadcdf2",
       "version_major": 2,
       "version_minor": 0
      },
      "text/plain": [
       "Widget(value='<iframe src=\"http://localhost:53529/index.html?ui=P_0x208c953f090_1&reconnect=auto\" class=\"pyvis…"
      ]
     },
     "metadata": {},
     "output_type": "display_data"
    }
   ],
   "source": [
    "# We'll create a viewer to visualize the scene\n",
    "viewer = graphics.Viewer3D( cameras=[cam1,cam2,cam3], objects=[pebble])\n",
    "viewer.show()"
   ]
  },
  {
   "cell_type": "code",
   "execution_count": 11,
   "metadata": {},
   "outputs": [],
   "source": [
    "# the object can be attached to the different cameras,\n",
    "# by default they will automatically aim at the object by rotating towards its center\n",
    "cam1.attach_target(pebble, focus=False)\n",
    "\n",
    "# we can tell it to translate instead of rotating\n",
    "cam2.attach_target(pebble, rotate= False, focus=False)\n",
    "\n",
    "# or not to move at all\n",
    "cam3.attach_target(pebble, aim= False, focus=False)\n",
    "\n",
    "# to see the changes, update the viewer\n",
    "viewer.update()"
   ]
  },
  {
   "cell_type": "markdown",
   "metadata": {},
   "source": [
    "## Moving cameras"
   ]
  },
  {
   "cell_type": "markdown",
   "metadata": {},
   "source": [
    "One of the most basic functionnality of Camera is their ability to be moved around the scene to visualise the effect of the Camera's positionning on the picture and photogrammetry results.\n",
    "\n",
    "Cameras can be moved around in different ways:\n",
    "1. updating the view parameters with `Camera.update_view()`. In this case, some parameters can be omited.\n",
    "1. translating the Camera with the `Camera.move()` method, either relative to the camera orientation or as a vector of the 3D space.\n",
    "1. turning the Camera, i.e., with respect to its current orientation, left, right, up, down, or rolling left or right. This is achieved with the `Camera.turn()` method.\n",
    "1. moving the camera by orbiting around a given point and axis. This is achieved with the `Camera.orbit()` method and is particularly useful for the displacement you'd make to take successive pictures of an object by turning around it. Note that most objects in pypho have a .center attribute that can be used here, the target pointed by the camera is also a good candidate to turn around (default)."
   ]
  },
  {
   "cell_type": "markdown",
   "metadata": {},
   "source": [
    "### update_view()"
   ]
  },
  {
   "cell_type": "markdown",
   "metadata": {},
   "source": [
    "Run the following cells one by one to see the effect."
   ]
  },
  {
   "cell_type": "code",
   "execution_count": 12,
   "metadata": {},
   "outputs": [
    {
     "data": {
      "application/vnd.jupyter.widget-view+json": {
       "model_id": "540c5a7b47134628905344e489c30aaa",
       "version_major": 2,
       "version_minor": 0
      },
      "text/plain": [
       "Widget(value='<iframe src=\"http://localhost:53529/index.html?ui=P_0x208c7b5f6d0_2&reconnect=auto\" class=\"pyvis…"
      ]
     },
     "metadata": {},
     "output_type": "display_data"
    }
   ],
   "source": [
    "viewer.show()"
   ]
  },
  {
   "cell_type": "code",
   "execution_count": 13,
   "metadata": {},
   "outputs": [],
   "source": [
    "cam1.update_view(location=[1,0.3,0.1])\n",
    "viewer.update()"
   ]
  },
  {
   "cell_type": "code",
   "execution_count": 14,
   "metadata": {},
   "outputs": [],
   "source": [
    "cam1.update_view(yaw=30)\n",
    "viewer.update()"
   ]
  },
  {
   "cell_type": "code",
   "execution_count": 15,
   "metadata": {},
   "outputs": [],
   "source": [
    "cam1.update_view(pitch=10)\n",
    "viewer.update()"
   ]
  },
  {
   "cell_type": "code",
   "execution_count": 16,
   "metadata": {},
   "outputs": [],
   "source": [
    "cam1.update_view(roll= -10)\n",
    "viewer.update()"
   ]
  },
  {
   "cell_type": "code",
   "execution_count": 17,
   "metadata": {},
   "outputs": [],
   "source": [
    "cam1.update_view(orientation= \"portrait\")\n",
    "viewer.update()"
   ]
  },
  {
   "cell_type": "markdown",
   "metadata": {},
   "source": [
    "### move()"
   ]
  },
  {
   "cell_type": "code",
   "execution_count": 18,
   "metadata": {},
   "outputs": [
    {
     "data": {
      "application/vnd.jupyter.widget-view+json": {
       "model_id": "74bffbaf756445279d3e21d4b730bd50",
       "version_major": 2,
       "version_minor": 0
      },
      "text/plain": [
       "Widget(value='<iframe src=\"http://localhost:53529/index.html?ui=P_0x208d926fc50_3&reconnect=auto\" class=\"pyvis…"
      ]
     },
     "metadata": {},
     "output_type": "display_data"
    }
   ],
   "source": [
    "viewer.show()"
   ]
  },
  {
   "cell_type": "code",
   "execution_count": 19,
   "metadata": {},
   "outputs": [],
   "source": [
    "cam2.move([0,0,0.3])\n",
    "viewer.update()"
   ]
  },
  {
   "cell_type": "code",
   "execution_count": 20,
   "metadata": {},
   "outputs": [],
   "source": [
    "cam3.move(0.5)\n",
    "viewer.update()"
   ]
  },
  {
   "cell_type": "code",
   "execution_count": 21,
   "metadata": {},
   "outputs": [],
   "source": [
    "cam3.move(0.5, direction= \"left\")\n",
    "viewer.update()"
   ]
  },
  {
   "cell_type": "code",
   "execution_count": 22,
   "metadata": {},
   "outputs": [],
   "source": [
    "cam3.move(0.25, direction= \"right\")\n",
    "viewer.update()"
   ]
  },
  {
   "cell_type": "code",
   "execution_count": 23,
   "metadata": {},
   "outputs": [],
   "source": [
    "cam3.move(0.25, direction= \"up\")\n",
    "viewer.update()"
   ]
  },
  {
   "cell_type": "code",
   "execution_count": 24,
   "metadata": {},
   "outputs": [],
   "source": [
    "cam3.move(0.15, direction= \"down\")\n",
    "viewer.update()"
   ]
  },
  {
   "cell_type": "code",
   "execution_count": 25,
   "metadata": {},
   "outputs": [],
   "source": [
    "cam3.move(0.25, direction= \"backward\")\n",
    "viewer.update()"
   ]
  },
  {
   "cell_type": "code",
   "execution_count": 26,
   "metadata": {},
   "outputs": [],
   "source": [
    "cam3.move(0.15, direction= \"forward\")\n",
    "viewer.update()"
   ]
  },
  {
   "cell_type": "markdown",
   "metadata": {},
   "source": [
    "### turn()"
   ]
  },
  {
   "cell_type": "code",
   "execution_count": 27,
   "metadata": {},
   "outputs": [
    {
     "data": {
      "application/vnd.jupyter.widget-view+json": {
       "model_id": "0d59e79890be4a79b67b9814f2fafac0",
       "version_major": 2,
       "version_minor": 0
      },
      "text/plain": [
       "Widget(value='<iframe src=\"http://localhost:53529/index.html?ui=P_0x208cb7800d0_4&reconnect=auto\" class=\"pyvis…"
      ]
     },
     "metadata": {},
     "output_type": "display_data"
    }
   ],
   "source": [
    "viewer.show()"
   ]
  },
  {
   "cell_type": "code",
   "execution_count": 28,
   "metadata": {},
   "outputs": [],
   "source": [
    "cam2.turn(10)\n",
    "viewer.update()"
   ]
  },
  {
   "cell_type": "code",
   "execution_count": 29,
   "metadata": {},
   "outputs": [],
   "source": [
    "cam2.turn(10, direction= \"left\")\n",
    "viewer.update()"
   ]
  },
  {
   "cell_type": "code",
   "execution_count": 30,
   "metadata": {},
   "outputs": [],
   "source": [
    "cam2.turn(10, direction= \"right\")\n",
    "viewer.update()"
   ]
  },
  {
   "cell_type": "code",
   "execution_count": 31,
   "metadata": {},
   "outputs": [],
   "source": [
    "cam2.turn(10, direction= \"up\")\n",
    "viewer.update()"
   ]
  },
  {
   "cell_type": "code",
   "execution_count": 32,
   "metadata": {},
   "outputs": [],
   "source": [
    "cam2.turn(10, direction= \"down\")\n",
    "viewer.update()"
   ]
  },
  {
   "cell_type": "code",
   "execution_count": 33,
   "metadata": {},
   "outputs": [],
   "source": [
    "cam2.turn(10, direction= \"roll_left\")\n",
    "viewer.update()"
   ]
  },
  {
   "cell_type": "code",
   "execution_count": 34,
   "metadata": {},
   "outputs": [],
   "source": [
    "cam2.turn(10, direction= \"roll_right\")\n",
    "viewer.update()"
   ]
  },
  {
   "cell_type": "markdown",
   "metadata": {},
   "source": [
    "### orbit()"
   ]
  },
  {
   "cell_type": "code",
   "execution_count": 31,
   "metadata": {},
   "outputs": [
    {
     "data": {
      "application/vnd.jupyter.widget-view+json": {
       "model_id": "77e25e0eeb6d4503a6463bc73a8a57b3",
       "version_major": 2,
       "version_minor": 0
      },
      "text/plain": [
       "Widget(value='<iframe src=\"http://localhost:55268/index.html?ui=P_0x1cadb452ed0_5&reconnect=auto\" class=\"pyvis…"
      ]
     },
     "metadata": {},
     "output_type": "display_data"
    }
   ],
   "source": [
    "cam2.aim_at()\n",
    "cam2.move(0.7)\n",
    "cam2.focus_on()\n",
    "viewer.show()"
   ]
  },
  {
   "cell_type": "code",
   "execution_count": 32,
   "metadata": {},
   "outputs": [],
   "source": [
    "# orbit around the target point\n",
    "cam2.orbit(10)\n",
    "viewer.update()"
   ]
  },
  {
   "cell_type": "code",
   "execution_count": 33,
   "metadata": {},
   "outputs": [],
   "source": [
    "# orbit around the object center\n",
    "cam2.orbit(10, around= pebble)\n",
    "viewer.update()"
   ]
  },
  {
   "cell_type": "code",
   "execution_count": 34,
   "metadata": {},
   "outputs": [],
   "source": [
    "# orbit around a point\n",
    "cam2.orbit(10, around= [0.9,1,0])\n",
    "viewer.update()"
   ]
  },
  {
   "cell_type": "code",
   "execution_count": 35,
   "metadata": {},
   "outputs": [],
   "source": [
    "# orbit given an axis of rotation\n",
    "cam2.orbit(10, around= pebble, axis= cam2.w_vector)\n",
    "viewer.update()"
   ]
  },
  {
   "cell_type": "markdown",
   "metadata": {},
   "source": [
    "# going at a given location or distance"
   ]
  },
  {
   "cell_type": "code",
   "execution_count": 95,
   "metadata": {},
   "outputs": [
    {
     "data": {
      "application/vnd.jupyter.widget-view+json": {
       "model_id": "eef5b8adcdba44468bbd59d8c2885bbb",
       "version_major": 2,
       "version_minor": 0
      },
      "text/plain": [
       "Widget(value='<iframe src=\"http://localhost:64725/index.html?ui=P_0x233432964d0_51&reconnect=auto\" class=\"pyvi…"
      ]
     },
     "metadata": {},
     "output_type": "display_data"
    }
   ],
   "source": [
    "obj, cam, viewer = graphics.get_default_scene(show= False)\n",
    "viewer.show(show_shots= True, show_cameras= True)\n",
    "cam.trigger(add_to_viewer= False)\n",
    "viewer.set_active_scalars(\"nb_views\")"
   ]
  },
  {
   "cell_type": "code",
   "execution_count": 96,
   "metadata": {},
   "outputs": [],
   "source": [
    "cam.move_to(1, \"distance\")\n",
    "viewer.update()"
   ]
  },
  {
   "cell_type": "code",
   "execution_count": null,
   "metadata": {},
   "outputs": [],
   "source": [
    "# optimize shooting distance for a given resolution\n",
    "cam.move_to(10, \"resolution\")\n",
    "viewer.update()"
   ]
  },
  {
   "cell_type": "markdown",
   "metadata": {},
   "source": [
    "## Camera internals"
   ]
  },
  {
   "cell_type": "markdown",
   "metadata": {},
   "source": [
    "We will now take a configuration with only one camera to illustrate the different internal state parameters that can be modified:\n",
    "* **lens**: first the lens is something that can be modified on the camera and one should be mounted to fully initialise the camera. This is achieved through the `Camera.setup_lens()` method. This was covered at the stage of creating the camera and would usually not be modify after, so it is not detailed here, but know you can change the lens by setting it again with `Camera.setup_lens()`\n",
    "* **focal**: `Camera.focal` represents the focal distance (distance from the sensor to the focal point). Most often in photogrammetry, you'd want to use fixed focal cameras for the stability of the photogrammetric computations, so this is automatically determined when initialising the camera from the lens database definition, or when changing the lens. However, **pypho** also offers the possibility to change the focal, for completeness and overall to make it easier to investigate the effect of a focal change without creating a new camera. This is achieved through the `Camera_update_focal()` method and will consequently update the magnification (see focus section) and the field of view, defined by the angles made by the focal point and the width/height of the sensor.\n",
    "* **focus**: `Camera.focus_on()` will change the distance (from the focal point) to the focus plan, represented by `Camera.Z`, and will consequently affect the magnification and sharpness zone of the camera. Magnification is stored by `Camera.magnification` and is defined by the Z/f ratio. The sharpness zone of the camera is defined by the first and last planes that encompass the volume where an object will appear as focussed on the sensor (`Camera.Z1` and `Camera.Z2` being the distances to the first and last sharp planes respectively). This depends on the definition of the sensor and more particularly on the size of the confusion circle (`Camera.confusion_circle_diameter`), which represents diameter of the largest disk on the sensor that would be assimilated to a single point. Any sharp object that is located outside this sharpness zone will focalised  on the sensor as a spread spot larger than the confusion circle and will be viewed as blurred. To compute the sharpness zone, the camera relies on the key distance referred to as hyperfocal (`Camera.H`). When focussing at this distance, the sharpness zone will extend from half the hyperfocal to the infinity. In photogrammetry, we tend to aim at closer objects, so this trick is rarelly used, but computing the sharpness zone still rely on the hyperfocal. Finally, the total depth of the sharpness zone is stored as `Camera.depth_of_field`.\n",
    "* **aperture**: last, but note the least of the parameters, the aperture of the diaphragme is key in the process of taking good pictures of an object for photogrammetry. The aperture is represented by the diameter of the diaphragme and expressed as a ratio $N$ of the focal distance $d = f/N$, therefore, the larger the aperture number $N$ is the more closed the diaphragme. The aperture has two effects: (1) it controls the amount of light that reaches the sensor and (2) it affects the sharpness zone because when the diaphragme is opened smaller, the rays of light arrive more parallel to each others and focalise in a spot that is less spread. However, further closing the diaphragm dramatically increases the effect of diffraction after a certain level of aperture. It is initially neglectible, but it can completely remove the sharpness zone if $N$ is too big. The sharpness zone including the effect of diffraction is shown in green, the zone without diffraction effect is in orange. \n",
    "\n",
    "Note that the question of the amount of light entering the camera, which involves the aperture but also the shutter speed and sensor sensitivity (ISO), is not considered here. Of course, it is crucial for taking good pictures, but we consider this can be achieved by adapting the ISO of the sensor and on the other hand proves difficult to predict in a reliable way through computations."
   ]
  },
  {
   "cell_type": "code",
   "execution_count": 58,
   "metadata": {},
   "outputs": [],
   "source": [
    "# if necessary, when developping, you can reload this by uncommenting this line\n",
    "_ = importlib.reload(camera)\n",
    "_ = importlib.reload(target)\n",
    "_ = importlib.reload(graphics)"
   ]
  },
  {
   "cell_type": "code",
   "execution_count": 59,
   "metadata": {},
   "outputs": [
    {
     "data": {
      "application/vnd.jupyter.widget-view+json": {
       "model_id": "78ca14fc799046cc982ba508f6a10bef",
       "version_major": 2,
       "version_minor": 0
      },
      "text/plain": [
       "Widget(value='<iframe src=\"http://localhost:52887/index.html?ui=P_0x1e3c804d910_9&reconnect=auto\" class=\"pyvis…"
      ]
     },
     "metadata": {},
     "output_type": "display_data"
    }
   ],
   "source": [
    "# lets start with a new camera and object\n",
    "cam = camera.get_default_camera()\n",
    "obj = target.Sphere(radius= 0.25, translation= [1,0,0])\n",
    "cam.attach_target(obj, rotate=False)\n",
    "viewer = graphics.Viewer3D(cam,obj, plot_sharpness_object= True, plot_sharpness_object_edges= True)\n",
    "viewer.show()\n",
    "viewer.plotter.camera.position = [0.7,3,0.25]\n",
    "viewer.plotter.camera.focal_point = [0.7,0,0.25]\n",
    "viewer.plotter.camera.up = [0,0,1]\n",
    "viewer.plotter.parallel_projection = True"
   ]
  },
  {
   "cell_type": "markdown",
   "metadata": {},
   "source": [
    "### Focal change"
   ]
  },
  {
   "cell_type": "code",
   "execution_count": 60,
   "metadata": {},
   "outputs": [
    {
     "data": {
      "application/vnd.jupyter.widget-view+json": {
       "model_id": "caec9dba9f87461c9114291586b6c318",
       "version_major": 2,
       "version_minor": 0
      },
      "text/plain": [
       "Widget(value='<iframe src=\"http://localhost:52887/index.html?ui=P_0x1e3c7ffa850_10&reconnect=auto\" class=\"pyvi…"
      ]
     },
     "metadata": {},
     "output_type": "display_data"
    }
   ],
   "source": [
    "# first we can see how the view changes when changing the focal\n",
    "# Note that the example lens is a fixed focal so we have to force this change (force=True)\n",
    "cam.update_focal(90, force=True)\n",
    "viewer.show()"
   ]
  },
  {
   "cell_type": "code",
   "execution_count": 61,
   "metadata": {},
   "outputs": [],
   "source": [
    "# To avoid forcing the focal change, we could change the lense for a variable focal one\n",
    "cam.setup_lens(lens_id=None, min_focus_distance=0.3, focal_min=35, focal_max=150)\n",
    "cam.update_focal(100)\n",
    "cam.focus_on()\n",
    "viewer.update()"
   ]
  },
  {
   "cell_type": "code",
   "execution_count": 62,
   "metadata": {},
   "outputs": [],
   "source": [
    "# let's put back the initial lens\n",
    "cam.setup_lens(lens_id= camera.CameraRegistry.lens_base.index[0])\n",
    "cam.focus_on()\n",
    "viewer.update()"
   ]
  },
  {
   "cell_type": "markdown",
   "metadata": {},
   "source": [
    "### Focus change"
   ]
  },
  {
   "cell_type": "code",
   "execution_count": 63,
   "metadata": {},
   "outputs": [
    {
     "data": {
      "application/vnd.jupyter.widget-view+json": {
       "model_id": "2c04dc0a7274486884989efe0eaa2532",
       "version_major": 2,
       "version_minor": 0
      },
      "text/plain": [
       "Widget(value='<iframe src=\"http://localhost:52887/index.html?ui=P_0x1e3c6f29c10_11&reconnect=auto\" class=\"pyvi…"
      ]
     },
     "metadata": {},
     "output_type": "display_data"
    }
   ],
   "source": [
    "# We can change where the camera is focussed on\n",
    "# either giving it a single point\n",
    "cam.focus_on(obj.center)\n",
    "viewer.show()"
   ]
  },
  {
   "cell_type": "code",
   "execution_count": 64,
   "metadata": {},
   "outputs": [],
   "source": [
    "# ... or a series of points,\n",
    "# by default the nearest is taken\n",
    "cam.focus_on(obj.points)\n",
    "viewer.update()"
   ]
  },
  {
   "cell_type": "code",
   "execution_count": 65,
   "metadata": {},
   "outputs": [],
   "source": [
    "# ... but we can also change this and specify \n",
    "# how to define a location to focus on base on the passed points\n",
    "# by giving it the method\n",
    "cam.focus_on(obj.points, method= np.max)\n",
    "viewer.update()"
   ]
  },
  {
   "cell_type": "code",
   "execution_count": 66,
   "metadata": {},
   "outputs": [],
   "source": [
    "# alternatively a pyvista object can be given directly and its points will be used\n",
    "cam.focus_on(obj.bounding_box())\n",
    "viewer.update()"
   ]
  },
  {
   "cell_type": "markdown",
   "metadata": {},
   "source": [
    "### Aperture Change"
   ]
  },
  {
   "cell_type": "code",
   "execution_count": 67,
   "metadata": {},
   "outputs": [
    {
     "data": {
      "application/vnd.jupyter.widget-view+json": {
       "model_id": "3d0c2ba1f3cb4b63a8a82773d1ef775e",
       "version_major": 2,
       "version_minor": 0
      },
      "text/plain": [
       "Widget(value='<iframe src=\"http://localhost:52887/index.html?ui=P_0x1e3bc8f8d50_12&reconnect=auto\" class=\"pyvi…"
      ]
     },
     "metadata": {},
     "output_type": "display_data"
    }
   ],
   "source": [
    "# the aperture can also be modified and will mainly affect the sharpness zone\n",
    "cam.update_aperture(N= 11)\n",
    "viewer.show()"
   ]
  },
  {
   "cell_type": "code",
   "execution_count": 68,
   "metadata": {},
   "outputs": [],
   "source": [
    "cam.update_aperture(N= 22)\n",
    "viewer.update()"
   ]
  },
  {
   "cell_type": "markdown",
   "metadata": {},
   "source": [
    "## Optimizing the camera parameters"
   ]
  },
  {
   "cell_type": "markdown",
   "metadata": {},
   "source": [
    "This is work in progress. In the future there will be:\n",
    "* optimisation of Z for a given resolution\n",
    "* optimisation of the focus to place as much as possible of the target in the sharpness zone\n",
    "* optimisation of the aperture likewise"
   ]
  },
  {
   "cell_type": "code",
   "execution_count": 122,
   "metadata": {},
   "outputs": [],
   "source": [
    "# if necessary, when developping, you can reload this by uncommenting this line\n",
    "_ = importlib.reload(camera)\n",
    "_ = importlib.reload(target)\n",
    "_ = importlib.reload(graphics)"
   ]
  },
  {
   "cell_type": "markdown",
   "metadata": {},
   "source": [
    "### Optimize distance to get a given resolution"
   ]
  },
  {
   "cell_type": "code",
   "execution_count": 105,
   "metadata": {},
   "outputs": [
    {
     "data": {
      "application/vnd.jupyter.widget-view+json": {
       "model_id": "83712b34cc6e4718ac10550da4afa4e2",
       "version_major": 2,
       "version_minor": 0
      },
      "text/plain": [
       "Widget(value='<iframe src=\"http://localhost:52887/index.html?ui=P_0x1e4193e4310_34&reconnect=auto\" class=\"pyvi…"
      ]
     },
     "metadata": {},
     "output_type": "display_data"
    }
   ],
   "source": [
    "obj, cam, viewer = graphics.get_default_scene()\n",
    "viewer.set_active_scalars(\"resolution\")"
   ]
  },
  {
   "cell_type": "code",
   "execution_count": 106,
   "metadata": {},
   "outputs": [],
   "source": [
    "target_resolution = 6 # pix/mm\n",
    "\n",
    "cam.move_to(target_resolution, mode=\"resolution\")\n",
    "\n",
    "cam.update_aperture()\n",
    "viewer.update(update_active_scalars=True)\n"
   ]
  },
  {
   "cell_type": "markdown",
   "metadata": {},
   "source": [
    "### Optimise aperture"
   ]
  },
  {
   "cell_type": "code",
   "execution_count": 107,
   "metadata": {},
   "outputs": [
    {
     "name": "stdout",
     "output_type": "stream",
     "text": [
      "N: 22\n",
      "Depth of field with diffraction: 0.00 cm\n"
     ]
    }
   ],
   "source": [
    "# using a large aperture number makes the sharpness zone larger (orange)\n",
    "# but diffraction becomes predominant and the really sharp zone disapears(green)\n",
    "cam.update_aperture(22)\n",
    "viewer.set_active_scalars(\"blur_spot_diameter\")\n",
    "viewer.update()\n",
    "print(\"N:\",cam.N)\n",
    "print(\"Depth of field with diffraction: {:.2f} cm\".format(100 * cam.depth_of_field_diffraction_included))"
   ]
  },
  {
   "cell_type": "code",
   "execution_count": 108,
   "metadata": {},
   "outputs": [
    {
     "name": "stdout",
     "output_type": "stream",
     "text": [
      "N: 6.35\n",
      "Depth of field with diffraction: 13.31 cm\n"
     ]
    }
   ],
   "source": [
    "# the optimal N considering diffraction can be accessed as follows\n",
    "N_optim = cam.compute_optimal_aperture()\n",
    "cam.update_aperture(N_optim)\n",
    "viewer.update()\n",
    "print(\"N:\",cam.N)\n",
    "print(\"Depth of field with diffraction: {:.2f} cm\".format(100 * cam.depth_of_field_diffraction_included))"
   ]
  },
  {
   "cell_type": "code",
   "execution_count": 109,
   "metadata": {},
   "outputs": [
    {
     "name": "stdout",
     "output_type": "stream",
     "text": [
      "N: 1.4\n",
      "Depth of field with diffraction: 6.71 cm\n"
     ]
    }
   ],
   "source": [
    "# when focusing on a new target point, aperture is not changed by default\n",
    "cam.update_aperture(1.4)\n",
    "cam.focus_on(obj.center)\n",
    "viewer.update()\n",
    "print(\"N:\",cam.N)\n",
    "print(\"Depth of field with diffraction: {:.2f} cm\".format(100 * cam.depth_of_field_diffraction_included))"
   ]
  },
  {
   "cell_type": "code",
   "execution_count": 110,
   "metadata": {},
   "outputs": [
    {
     "name": "stdout",
     "output_type": "stream",
     "text": [
      "N: 6.35\n",
      "Depth of field with diffraction: 22.24 cm\n"
     ]
    }
   ],
   "source": [
    "# but it can be optimized with the optional optim_N\n",
    "cam.focus_on(obj.center, optimize_N=True)\n",
    "viewer.update()\n",
    "print(\"N:\",cam.N)\n",
    "print(\"Depth of field with diffraction: {:.2f} cm\".format(100 * cam.depth_of_field_diffraction_included))"
   ]
  },
  {
   "cell_type": "markdown",
   "metadata": {},
   "source": [
    "## Optimizing sharpness zone\n",
    "\n",
    "For photogrammetry, the object must be as sharp as possible,\n",
    "ideally in all its visible parts, or at least in the closest part of the object.\n",
    "\n",
    "This can be optimized under different conditions.\n",
    "\n",
    "The result of this optimisation is shown in the graph below."
   ]
  },
  {
   "cell_type": "code",
   "execution_count": 113,
   "metadata": {},
   "outputs": [
    {
     "data": {
      "application/vnd.jupyter.widget-view+json": {
       "model_id": "d8d29ee233d14b149f26550f141e096f",
       "version_major": 2,
       "version_minor": 0
      },
      "text/plain": [
       "Widget(value='<iframe src=\"http://localhost:52887/index.html?ui=P_0x1e438e167d0_38&reconnect=auto\" class=\"pyvi…"
      ]
     },
     "metadata": {},
     "output_type": "display_data"
    }
   ],
   "source": [
    "obj, cam, viewer = graphics.get_default_scene(dist= 2)\n",
    "\n",
    "obj.subdivide(1, \"linear\", inplace= True)\n",
    "cam._update_object_view_properties(obj)\n",
    "viewer.update()\n",
    "\n",
    "viewer.set_active_scalars(\"blur_spot_diameter\")\n",
    "facing = obj.point_data[\"facing_b\"]\n",
    "target_points = obj.points[facing]\n",
    "\n",
    "viewer.plotter.add_mesh(target_points)\n",
    "target_zx = cam._compute_camera_coordinates(target_points)[:,0]"
   ]
  },
  {
   "cell_type": "code",
   "execution_count": 114,
   "metadata": {},
   "outputs": [],
   "source": [
    "# ignoring diffraction, make the closest target points sharp\n",
    "res = cam.optimize_sharpness(target_points= target_points, \n",
    "        use_diffraction= False, mode= \"front\"\n",
    "        )\n",
    "viewer.update()"
   ]
  },
  {
   "cell_type": "code",
   "execution_count": 116,
   "metadata": {},
   "outputs": [],
   "source": [
    "# ignoring diffraction, balance the sharpness zone and optimize the aperture\n",
    "res = cam.optimize_sharpness(target_points= target_points, \n",
    "        use_diffraction= False, mode= \"middle\", optimize_N= True\n",
    "        )\n",
    "viewer.update()"
   ]
  },
  {
   "cell_type": "code",
   "execution_count": null,
   "metadata": {},
   "outputs": [],
   "source": [
    "# considering diffraction, balance the sharpness zone and optimize the aperture\n",
    "# but don't move the camera, this is limitting the sharpness\n",
    "res = cam.optimize_sharpness(target_points= target_points, \n",
    "        use_diffraction= True, mode= \"middle\", optimize_N= True\n",
    "        )\n",
    "viewer.update()"
   ]
  },
  {
   "cell_type": "code",
   "execution_count": 119,
   "metadata": {},
   "outputs": [
    {
     "name": "stderr",
     "output_type": "stream",
     "text": [
      "c:\\Users\\glaurent\\Documents\\Outils\\Anaconda\\envs\\pypho\\Lib\\site-packages\\scipy\\optimize\\_slsqp_py.py:434: RuntimeWarning: Values in x were outside bounds during a minimize step, clipping to bounds\n",
      "  fx = wrapped_fun(x)\n"
     ]
    }
   ],
   "source": [
    "# considering diffraction, balance the sharpness zone and optimize the aperture\n",
    "# allow moving the camera to make a larger sharpness zone\n",
    "# this is also longer to compute\n",
    "res = cam.optimize_sharpness(target_points= target_points, \n",
    "        use_diffraction= True, mode= \"middle\", optimize_N= True,\n",
    "        optimize_location= True\n",
    "        )\n",
    "viewer.update()"
   ]
  },
  {
   "cell_type": "code",
   "execution_count": 120,
   "metadata": {},
   "outputs": [
    {
     "data": {
      "image/png": "[encoded data removed]",
      "text/plain": [
       "<Figure size 640x480 with 2 Axes>"
      ]
     },
     "metadata": {},
     "output_type": "display_data"
    }
   ],
   "source": [
    "# we can plot the location of the target points and associated cost\n",
    "# to inspect optimization results\n",
    "# the options must be the same as for the optimisation method\n",
    "graphics.plot_sharpness_optimisation(cam, target_points= target_points, res=res, \n",
    "        use_diffraction= True, mode= \"middle\", optimize_N= True,\n",
    "        optimize_location= True\n",
    "        )"
   ]
  },
  {
   "cell_type": "code",
   "execution_count": 123,
   "metadata": {},
   "outputs": [
    {
     "data": {
      "text/plain": [
       "(np.float64(2.5288759373921486), np.float64(0.29572496552261607))"
      ]
     },
     "execution_count": 123,
     "metadata": {},
     "output_type": "execute_result"
    },
    {
     "data": {
      "image/png": "[encoded data removed]",
      "text/plain": [
       "<Figure size 640x480 with 1 Axes>"
      ]
     },
     "metadata": {},
     "output_type": "display_data"
    }
   ],
   "source": [
    "# finally this is showing the optimisation resulting cost\n",
    "graphics.plot_sharpness_optimisation_cost(\n",
    "    cam= cam, target_points= target_points, res= res,\n",
    "        use_diffraction= True, mode= \"middle\", optimize_N= True,\n",
    "        optimize_location= True\n",
    ")"
   ]
  },
  {
   "cell_type": "markdown",
   "metadata": {},
   "source": [
    "## Taking a picture"
   ]
  },
  {
   "cell_type": "markdown",
   "metadata": {},
   "source": [
    "The purpose of Cameras is to take pictures (aka. shots). \n",
    "Most parameters can be explored as demonstrated above by modify the camera settings and inspecting the effect on the view object directly, but you want to start and investigate varying the parameters and viewpoints, you might want to actually take the pictures and compare them.\n",
    "\n",
    "Taking a picture is achieved through the `Camera.trigger()` method \n",
    "and generates a `CameraShot` which is a duplicate of the camera state when the shot is taken.\n",
    "\n",
    "The camera holds a list of the pictures it took in the form of `Camera.shots` parameters."
   ]
  },
  {
   "cell_type": "code",
   "execution_count": 60,
   "metadata": {},
   "outputs": [
    {
     "data": {
      "application/vnd.jupyter.widget-view+json": {
       "model_id": "7458b63e760c42cda5eadd07ac26928e",
       "version_major": 2,
       "version_minor": 0
      },
      "text/plain": [
       "Widget(value='<iframe src=\"http://localhost:55268/index.html?ui=P_0x1cacc67d690_21&reconnect=auto\" class=\"pyvi…"
      ]
     },
     "metadata": {},
     "output_type": "display_data"
    }
   ],
   "source": [
    "viewer = graphics.Viewer3D(cam,obj)\n",
    "viewer.show()"
   ]
  },
  {
   "cell_type": "code",
   "execution_count": 63,
   "metadata": {},
   "outputs": [
    {
     "data": {
      "application/vnd.jupyter.widget-view+json": {
       "model_id": "ad20cbac96a446538e85a93f380a7008",
       "version_major": 2,
       "version_minor": 0
      },
      "text/plain": [
       "Widget(value='<iframe src=\"http://localhost:55268/index.html?ui=P_0x1cb12d92d90_24&reconnect=auto\" class=\"pyvi…"
      ]
     },
     "metadata": {},
     "output_type": "display_data"
    }
   ],
   "source": [
    "\n",
    "viewer.add_shot(cam.trigger())\n",
    "viewer.show(show_objects= False)"
   ]
  },
  {
   "cell_type": "markdown",
   "metadata": {},
   "source": [
    "## Planning a shot sequence"
   ]
  },
  {
   "cell_type": "markdown",
   "metadata": {},
   "source": [
    "With this tools you can visualisation the configuration of a shot sequence."
   ]
  },
  {
   "cell_type": "code",
   "execution_count": 84,
   "metadata": {},
   "outputs": [
    {
     "data": {
      "application/vnd.jupyter.widget-view+json": {
       "model_id": "a6c6179d0daa4c1999b2ba41120a0482",
       "version_major": 2,
       "version_minor": 0
      },
      "text/plain": [
       "Widget(value='<iframe src=\"http://localhost:62447/index.html?ui=P_0x1c88970b790_30&reconnect=auto\" class=\"pyvi…"
      ]
     },
     "metadata": {},
     "output_type": "display_data"
    }
   ],
   "source": [
    "# We'll consider a vertical outcrop located 1.5 m away\n",
    "outcrop = target.Outcrop(translation= [1.5,0,0])\n",
    "\n",
    "# We take our preferred camera and place it at 50 cm elevation\n",
    "cam = camera.get_default_camera()\n",
    "cam.move([0,0,0.5])\n",
    "# and aim at the outcrop\n",
    "cam.attach_target(outcrop, aim=False, focus= True)\n",
    "\n",
    "# and view the scene\n",
    "viewer = graphics.Viewer3D(cam, outcrop,\n",
    "                           target_object_opacity=0.5,\n",
    "                           plot_focus_plan_object= False,\n",
    "                           plot_sharpness_object= False,\n",
    "                           plot_sharpness_object_edges= False\n",
    "                           )\n",
    "viewer.show()\n",
    "viewer.plotter.camera.position = [-5,-5,2.5]\n",
    "viewer.plotter.camera.focal_point = [1.4,0.2,0.7]\n",
    "viewer.plotter.camera.up = [0,0,1]"
   ]
  },
  {
   "cell_type": "code",
   "execution_count": 85,
   "metadata": {},
   "outputs": [
    {
     "data": {
      "application/vnd.jupyter.widget-view+json": {
       "model_id": "f32cb185ccaa47079c30230bb06d165e",
       "version_major": 2,
       "version_minor": 0
      },
      "text/plain": [
       "Widget(value='<iframe src=\"http://localhost:62447/index.html?ui=P_0x1c8897a87d0_31&reconnect=auto\" class=\"pyvi…"
      ]
     },
     "metadata": {},
     "output_type": "display_data"
    }
   ],
   "source": [
    "angle = 25\n",
    "shift = 0.4\n",
    "\n",
    "cam.trigger()\n",
    "cam.turn(angle, \"left\")\n",
    "cam.trigger()\n",
    "cam.turn(2*angle, \"right\")\n",
    "cam.trigger()\n",
    "\n",
    "cam.turn(angle, \"left\")\n",
    "cam.move([0,0,shift])\n",
    "cam.trigger()\n",
    "cam.turn(angle, \"left\")\n",
    "cam.trigger()\n",
    "cam.turn(2*angle, \"right\")\n",
    "cam.trigger()\n",
    "\n",
    "cam.turn(angle, \"left\")\n",
    "cam.move([0,0,shift])\n",
    "cam.trigger()\n",
    "cam.turn(angle, \"left\")\n",
    "cam.trigger()\n",
    "cam.turn(2*angle, \"right\")\n",
    "cam.trigger()\n",
    "cam.turn(angle, \"left\")\n",
    "\n",
    "viewer.add_shot(cam.shots)\n",
    "viewer.show(show_cameras= False)\n",
    "viewer.plotter.camera.position = [-5,-5,2.5]\n",
    "viewer.plotter.camera.focal_point = [1.4,0.2,0.7]\n",
    "viewer.plotter.camera.up = [0,0,1]"
   ]
  },
  {
   "cell_type": "markdown",
   "metadata": {},
   "source": [
    "## Counting views\n",
    "\n",
    "In a photogrammetric design, it is crucial to evaluate how each part of the target object is going to be documented. Quantifying the number of potential views for each point is also a way to evaluate a posteriori the quality of the reconstruction by comparing how the number of expected views and the number of pictures used in the reconstruction of each model point.\n",
    "\n",
    "Pypho provides two tools for this:\n",
    "1. a scalar field is incremented each time a picture is taken: `object.point_data[\"nb_views\"]`\n",
    "2. each camera stores a view counter for each attached object `Camera.views`. It takes the form of a dictionnary associating a boolean array to each attached object. The lines of the array are for each shot, the column for each data point. This can be visualised by `graphics.plot_view_matrix`"
   ]
  },
  {
   "cell_type": "code",
   "execution_count": 8,
   "metadata": {},
   "outputs": [
    {
     "data": {
      "application/vnd.jupyter.widget-view+json": {
       "model_id": "adbc6b7564ee4ca7aea0833942783e7d",
       "version_major": 2,
       "version_minor": 0
      },
      "text/plain": [
       "Widget(value='<iframe src=\"http://localhost:64725/index.html?ui=P_0x232dc4e82d0_3&reconnect=auto\" class=\"pyvis…"
      ]
     },
     "metadata": {},
     "output_type": "display_data"
    }
   ],
   "source": [
    "obj, cam, viewer = graphics.get_default_scene(show= False)\n",
    "viewer.show(show_shots= True, show_cameras= True)\n",
    "cam.trigger(add_to_viewer= False)\n",
    "viewer.set_active_scalars(\"nb_views\")"
   ]
  },
  {
   "cell_type": "code",
   "execution_count": 3,
   "metadata": {},
   "outputs": [],
   "source": [
    "n_step = 30\n",
    "for i in range(n_step):\n",
    "    cam.orbit(360/n_step, obj.center)\n",
    "    cam.trigger(add_to_viewer= True)\n",
    "viewer.update()\n",
    "\n",
    "viewer.plot_shots()"
   ]
  },
  {
   "cell_type": "code",
   "execution_count": 4,
   "metadata": {},
   "outputs": [
    {
     "data": {
      "image/png": "[encoded data removed]",
      "text/plain": [
       "<Figure size 640x480 with 2 Axes>"
      ]
     },
     "metadata": {},
     "output_type": "display_data"
    }
   ],
   "source": [
    "\n",
    "graphics.plot_view_matrix(cam)"
   ]
  },
  {
   "cell_type": "markdown",
   "metadata": {},
   "source": [
    "## Accessible properties"
   ]
  },
  {
   "cell_type": "code",
   "execution_count": 61,
   "metadata": {},
   "outputs": [],
   "source": [
    "_ = importlib.reload(camera)\n",
    "_ = importlib.reload(graphics)"
   ]
  },
  {
   "cell_type": "code",
   "execution_count": 62,
   "metadata": {},
   "outputs": [
    {
     "name": "stderr",
     "output_type": "stream",
     "text": [
      "c:\\Users\\glaurent\\Documents\\Dev\\Projects\\PhotogrammetryTools\\notebooks\\01_photogrammetric_design\\../..\\pypho\\design\\camera.py:1921: UserWarning: Gimbal lock detected. Setting third angle to zero since it is not possible to uniquely determine all angles.\n",
      "  \n",
      "c:\\Users\\glaurent\\Documents\\Dev\\Projects\\PhotogrammetryTools\\notebooks\\01_photogrammetric_design\\../..\\pypho\\design\\camera.py:1817: UserWarning: Gimbal lock detected. Setting third angle to zero since it is not possible to uniquely determine all angles.\n",
      "  # init fields\n",
      "c:\\Users\\glaurent\\Documents\\Dev\\Projects\\PhotogrammetryTools\\notebooks\\01_photogrammetric_design\\../..\\pypho\\design\\camera.py:545: RuntimeWarning: invalid value encountered in sqrt\n",
      "  return np.sqrt(defocus_diameter**2 + diffraction_diameter**2)\n"
     ]
    },
    {
     "data": {
      "application/vnd.jupyter.widget-view+json": {
       "model_id": "443401925d4f4b82bc9360cae1864639",
       "version_major": 2,
       "version_minor": 0
      },
      "text/plain": [
       "Widget(value='<iframe src=\"http://localhost:57832/index.html?ui=P_0x1aa07869290_12&reconnect=auto\" class=\"pyvi…"
      ]
     },
     "metadata": {},
     "output_type": "display_data"
    }
   ],
   "source": [
    "from pyvista import examples\n",
    "hills = target.TargetObject(examples.load_random_hills(), kind=\"Ground\")\n",
    "cam = camera.get_default_camera()\n",
    "cam.init_location(hills)\n",
    "cam.attach_target(hills)\n",
    "cam.update_view([2,10,5],180,0,0)\n",
    "cam.focus_on()\n",
    "\n",
    "viewer = graphics.Viewer3D(cameras=cam, objects=hills)\n",
    "viewer.show()"
   ]
  },
  {
   "cell_type": "code",
   "execution_count": 63,
   "metadata": {},
   "outputs": [],
   "source": [
    "viewer.set_active_scalars(\"z_all\")"
   ]
  },
  {
   "cell_type": "code",
   "execution_count": 64,
   "metadata": {},
   "outputs": [],
   "source": [
    "viewer.set_active_scalars(\"sampling_distance\")"
   ]
  },
  {
   "cell_type": "code",
   "execution_count": 2,
   "metadata": {},
   "outputs": [],
   "source": [
    "_ = importlib.reload(camera)\n",
    "_ = importlib.reload(graphics)"
   ]
  },
  {
   "cell_type": "code",
   "execution_count": 3,
   "metadata": {},
   "outputs": [
    {
     "data": {
      "application/vnd.jupyter.widget-view+json": {
       "model_id": "3d08c91dbc4748b89211413f56e6e357",
       "version_major": 2,
       "version_minor": 0
      },
      "text/plain": [
       "Widget(value='<iframe src=\"http://localhost:53031/index.html?ui=P_0x212611abd10_1&reconnect=auto\" class=\"pyvis…"
      ]
     },
     "metadata": {},
     "output_type": "display_data"
    }
   ],
   "source": [
    "obj, cam, viewer = graphics.get_default_scene(show= False)\n",
    "viewer.show(show_shots= True, show_cameras= True)\n",
    "cam.move_to(2.5, \"distance\")\n",
    "cam.trigger(add_to_viewer= False)\n",
    "viewer.set_active_scalars(\"nb_views\")"
   ]
  },
  {
   "cell_type": "code",
   "execution_count": 20,
   "metadata": {},
   "outputs": [
    {
     "name": "stdout",
     "output_type": "stream",
     "text": [
      "4.587625981473723 25.03199445373454\n"
     ]
    }
   ],
   "source": [
    "cam.orbit(20)\n",
    "cam.trigger(add_to_viewer= False)\n",
    "viewer.update()\n",
    "print(np.nanmin(obj.point_data[\"best_blur_diameter\"]), np.nanmax(obj.point_data[\"best_blur_diameter\"]))"
   ]
  },
  {
   "cell_type": "code",
   "execution_count": 149,
   "metadata": {},
   "outputs": [],
   "source": [
    "viewer.set_active_scalars(\"nb_sharp_views\")"
   ]
  },
  {
   "cell_type": "code",
   "execution_count": 95,
   "metadata": {},
   "outputs": [],
   "source": [
    "viewer.set_active_scalars(\"best_resolution\")"
   ]
  },
  {
   "cell_type": "code",
   "execution_count": 130,
   "metadata": {},
   "outputs": [],
   "source": [
    "viewer.set_active_scalars(\"best_sampling\")"
   ]
  },
  {
   "cell_type": "code",
   "execution_count": 185,
   "metadata": {},
   "outputs": [
    {
     "data": {
      "text/plain": [
       "np.float64(4.587625981473723)"
      ]
     },
     "execution_count": 185,
     "metadata": {},
     "output_type": "execute_result"
    }
   ],
   "source": [
    "np.nanmin(obj.point_data[\"best_blur_diameter\"])"
   ]
  },
  {
   "cell_type": "code",
   "execution_count": 5,
   "metadata": {},
   "outputs": [],
   "source": [
    "viewer.set_active_scalars(\"best_blur_diameter\",\n",
    "    cmap= graphics.BlurSpotDiameterColormap(cam=cam, obj= obj, field=\"best_blur_diameter\")\n",
    ")"
   ]
  },
  {
   "cell_type": "code",
   "execution_count": 22,
   "metadata": {},
   "outputs": [],
   "source": [
    "viewer.set_active_scalars(\"best_defocus_diameter\")"
   ]
  },
  {
   "cell_type": "code",
   "execution_count": 34,
   "metadata": {},
   "outputs": [
    {
     "data": {
      "text/html": [
       "<table style='width: 100%;'><tr><th>Header</th><th>Data Arrays</th></tr><tr><td>\n",
       "<table style='width: 100%;'>\n",
       "<tr><th>TargetObject</th><th>Information</th></tr>\n",
       "<tr><td>N Cells</td><td>192</td></tr>\n",
       "<tr><td>N Points</td><td>98</td></tr>\n",
       "<tr><td>N Strips</td><td>0</td></tr>\n",
       "<tr><td>X Bounds</td><td>-4.477e-01, 4.477e-01</td></tr>\n",
       "<tr><td>Y Bounds</td><td>-3.582e-01, 3.582e-01</td></tr>\n",
       "<tr><td>Z Bounds</td><td>-1.067e-01, 2.067e-01</td></tr>\n",
       "<tr><td>N Arrays</td><td>28</td></tr>\n",
       "</table>\n",
       "\n",
       "</td><td>\n",
       "<table style='width: 100%;'>\n",
       "<tr><th>Name</th><th>Field</th><th>Type</th><th>N Comp</th><th>Min</th><th>Max</th></tr>\n",
       "<tr><td>TCoords</td><td>Points</td><td>float32</td><td>2</td><td>-4.564e-01</td><td>8.582e-01</td></tr>\n",
       "<tr><td>Normals</td><td>Points</td><td>float32</td><td>3</td><td>-1.000e+00</td><td>1.000e+00</td></tr>\n",
       "<tr><td>x</td><td>Points</td><td>float64</td><td>1</td><td>-3.582e-01</td><td>3.582e-01</td></tr>\n",
       "<tr><td>y</td><td>Points</td><td>float64</td><td>1</td><td>-1.568e-01</td><td>1.569e-01</td></tr>\n",
       "<tr><td>z</td><td>Points</td><td>float64</td><td>1</td><td>3.046e-01</td><td>1.199e+00</td></tr>\n",
       "<tr><td>angle_width</td><td>Points</td><td>float64</td><td>1</td><td>-3.319e+01</td><td>3.135e+01</td></tr>\n",
       "<tr><td>angle_height</td><td>Points</td><td>float64</td><td>1</td><td>-1.365e+01</td><td>1.728e+01</td></tr>\n",
       "<tr><td>pix_i</td><td>Points</td><td>float64</td><td>1</td><td>-6.157e+03</td><td>5.734e+03</td></tr>\n",
       "<tr><td>pix_j</td><td>Points</td><td>float64</td><td>1</td><td>-2.285e+03</td><td>2.929e+03</td></tr>\n",
       "<tr><td>facing_b</td><td>Points</td><td>bool</td><td>1</td><td>nan</td><td>nan</td></tr>\n",
       "<tr><td>facing</td><td>Points</td><td>float64</td><td>1</td><td>0.000e+00</td><td>1.000e+00</td></tr>\n",
       "<tr><td>in_view_b</td><td>Points</td><td>bool</td><td>1</td><td>nan</td><td>nan</td></tr>\n",
       "<tr><td>in_view</td><td>Points</td><td>float64</td><td>1</td><td>0.000e+00</td><td>1.000e+00</td></tr>\n",
       "<tr><td>visible_b</td><td>Points</td><td>bool</td><td>1</td><td>nan</td><td>nan</td></tr>\n",
       "<tr><td>visible</td><td>Points</td><td>float64</td><td>1</td><td>0.000e+00</td><td>1.000e+00</td></tr>\n",
       "<tr><td>resolution</td><td>Points</td><td>float64</td><td>1</td><td>7.852e+00</td><td>3.090e+01</td></tr>\n",
       "<tr><td>sampling_distance</td><td>Points</td><td>float64</td><td>1</td><td>3.237e-02</td><td>1.274e-01</td></tr>\n",
       "<tr><td>defocus_diameter</td><td>Points</td><td>float64</td><td>1</td><td>0.000e+00</td><td>1.210e+03</td></tr>\n",
       "<tr><td>diffraction_diameter</td><td>Points</td><td>float64</td><td>1</td><td>3.839e+00</td><td>4.159e+00</td></tr>\n",
       "<tr><td>blur_spot_diameter</td><td>Points</td><td>float64</td><td>1</td><td>2.495e+00</td><td>1.210e+03</td></tr>\n",
       "<tr><td>depth_error_std</td><td>Points</td><td>float64</td><td>1</td><td>3.287e-06</td><td>5.089e-05</td></tr>\n",
       "<tr><td>sharp_b</td><td>Points</td><td>bool</td><td>1</td><td>nan</td><td>nan</td></tr>\n",
       "<tr><td>sharp</td><td>Points</td><td>float64</td><td>1</td><td>0.000e+00</td><td>0.000e+00</td></tr>\n",
       "<tr><td>visible_sharp_b</td><td>Points</td><td>bool</td><td>1</td><td>nan</td><td>nan</td></tr>\n",
       "<tr><td>visible_sharp</td><td>Points</td><td>float64</td><td>1</td><td>0.000e+00</td><td>0.000e+00</td></tr>\n",
       "<tr><td><b>nb_views</b></td><td>Points</td><td>float64</td><td>1</td><td>0.000e+00</td><td>1.000e+00</td></tr>\n",
       "<tr><td>FaceIndex</td><td>Cells</td><td>int64</td><td>1</td><td>0.000e+00</td><td>5.000e+00</td></tr>\n",
       "<tr><td>Normals</td><td>Cells</td><td>float32</td><td>3</td><td>-9.972e-01</td><td>9.972e-01</td></tr>\n",
       "</table>\n",
       "\n",
       "</td></tr> </table>"
      ],
      "text/plain": [
       "TargetObject (0x232f7bff160)\n",
       "  N Cells:    192\n",
       "  N Points:   98\n",
       "  N Strips:   0\n",
       "  X Bounds:   -4.477e-01, 4.477e-01\n",
       "  Y Bounds:   -3.582e-01, 3.582e-01\n",
       "  Z Bounds:   -1.067e-01, 2.067e-01\n",
       "  N Arrays:   28"
      ]
     },
     "execution_count": 34,
     "metadata": {},
     "output_type": "execute_result"
    }
   ],
   "source": [
    "obj"
   ]
  },
  {
   "cell_type": "markdown",
   "metadata": {},
   "source": [
    "## Custom colormaps"
   ]
  },
  {
   "cell_type": "markdown",
   "metadata": {},
   "source": [
    "Custom colormaps have been defined for the blur diameters."
   ]
  },
  {
   "cell_type": "code",
   "execution_count": 51,
   "metadata": {},
   "outputs": [],
   "source": [
    "_ = importlib.reload(graphics)"
   ]
  },
  {
   "cell_type": "code",
   "execution_count": 110,
   "metadata": {},
   "outputs": [
    {
     "data": {
      "application/vnd.jupyter.widget-view+json": {
       "model_id": "c85fbaf4c1ed41c0a1ca24a4659a3f06",
       "version_major": 2,
       "version_minor": 0
      },
      "text/plain": [
       "Widget(value='<iframe src=\"http://localhost:60564/index.html?ui=P_0x1f402412350_29&reconnect=auto\" class=\"pyvi…"
      ]
     },
     "metadata": {},
     "output_type": "display_data"
    },
    {
     "data": {
      "text/plain": [
       "<pypho.design.camera.CameraShot at 0x1f476293f50>"
      ]
     },
     "execution_count": 110,
     "metadata": {},
     "output_type": "execute_result"
    }
   ],
   "source": [
    "obj, cam, viewer = graphics.get_default_scene(show= False)\n",
    "cam.move_to(1.5, \"distance\")\n",
    "cam.update_aperture()\n",
    "cam.focus_on(obj.center)\n",
    "viewer.show(show_shots= True, show_cameras= True)\n",
    "cam.trigger(add_to_viewer= False)"
   ]
  },
  {
   "cell_type": "code",
   "execution_count": 53,
   "metadata": {},
   "outputs": [
    {
     "data": {
      "text/plain": [
       "np.float64(7.437500000000001)"
      ]
     },
     "execution_count": 53,
     "metadata": {},
     "output_type": "execute_result"
    }
   ],
   "source": [
    "cam.confusion_circle_diameter*1000"
   ]
  },
  {
   "cell_type": "code",
   "execution_count": 54,
   "metadata": {},
   "outputs": [],
   "source": [
    "# setting the colormap to show the blur spot (total including diffraction)\n",
    "# the white fringe locates the confusion circle diameter\n",
    "viewer.set_active_scalars(\"blur_spot_diameter\",\n",
    "                          cmap= graphics.BlurSpotDiameterColormap(cam=cam, obj= obj)\n",
    "                )"
   ]
  },
  {
   "cell_type": "code",
   "execution_count": 55,
   "metadata": {},
   "outputs": [],
   "source": [
    "# setting the colormap to show the defocus diameter only (no diffraction)\n",
    "# here vmin is used to force the colormap to start at 0\n",
    "# be careful to use the same vmin in both the set_active_scalars and Cmap values\n",
    "viewer.set_active_scalars(\"defocus_diameter\", vmin=0,\n",
    "                    cmap= graphics.BlurSpotDiameterColormap(cam=cam, obj= obj, \n",
    "                                                            vmin=0, field= \"defocus_diameter\")\n",
    "                )"
   ]
  },
  {
   "cell_type": "code",
   "execution_count": 58,
   "metadata": {},
   "outputs": [],
   "source": [
    "# this is automatically updated with the viewer\n",
    "cam.move_to(3, \"distance\", target= obj.center)\n",
    "viewer.update()"
   ]
  }
 ],
 "metadata": {
  "kernelspec": {
   "display_name": "pypho",
   "language": "python",
   "name": "python3"
  },
  "language_info": {
   "codemirror_mode": {
    "name": "ipython",
    "version": 3
   },
   "file_extension": ".py",
   "mimetype": "text/x-python",
   "name": "python",
   "nbconvert_exporter": "python",
   "pygments_lexer": "ipython3",
   "version": "3.11.9"
  }
 },
 "nbformat": 4,
 "nbformat_minor": 2
}
