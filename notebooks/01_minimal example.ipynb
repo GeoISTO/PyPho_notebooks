{
 "cells": [
  {
   "cell_type": "markdown",
   "metadata": {},
   "source": [
    "# Minimal Example"
   ]
  },
  {
   "cell_type": "markdown",
   "metadata": {},
   "source": [
    "This is a minimal example to showcase what can be done with **pypho**.\n",
    "\n",
    "Example of workflow:\n",
    "1. load or add you camera setting in/from the registry (see [02_camera_definition.ipynb](./02_camera_definition.ipynb) about how to add new camera definitions)\n",
    "2. add an object (see [03_target_objects.ipynb](./03_target_objects.ipynb) for more objects)\n",
    "3. point the camera at the object and take a picture (see [04_camera_manipulation.ipynb](./04_camera_manipulation.ipynb) for more camera manipulations)"
   ]
  },
  {
   "cell_type": "code",
   "execution_count": 1,
   "metadata": {},
   "outputs": [],
   "source": [
    "from pypho import camera, target, graphics\n",
    "\n",
    "import importlib"
   ]
  },
  {
   "cell_type": "code",
   "execution_count": 114,
   "metadata": {},
   "outputs": [],
   "source": [
    "# if necessary, when developping, you can reload this by uncommenting this line\n",
    "_ = importlib.reload(camera)\n",
    "_ = importlib.reload(target)\n",
    "_ = importlib.reload(graphics)"
   ]
  },
  {
   "cell_type": "code",
   "execution_count": 2,
   "metadata": {},
   "outputs": [
    {
     "name": "stdout",
     "output_type": "stream",
     "text": [
      "Cameras: ['A7RIV']\n",
      "Lenses: ['FE35']\n"
     ]
    }
   ],
   "source": [
    "# list camera names\n",
    "print(\"Cameras:\",camera.CameraRegistry.camera_base.index.values)\n",
    "# list lenses names\n",
    "print(\"Lenses:\",camera.CameraRegistry.lens_base.index.values)"
   ]
  },
  {
   "cell_type": "code",
   "execution_count": 12,
   "metadata": {},
   "outputs": [
    {
     "data": {
      "text/plain": [
       "'A7RIV'"
      ]
     },
     "execution_count": 12,
     "metadata": {},
     "output_type": "execute_result"
    }
   ],
   "source": [
    "# get a camera\n",
    "cam = camera.CameraRegistry.get_camera(\"A7RIV\",\"FE35\")\n",
    "cam.name"
   ]
  },
  {
   "cell_type": "code",
   "execution_count": 13,
   "metadata": {},
   "outputs": [],
   "source": [
    "# create a target object\n",
    "obj = target.CubeSample(translation=[1,0,0])\n",
    "\n",
    "# attach it to the camera to tell the camera should aim at it\n",
    "cam.attach_target(obj)"
   ]
  },
  {
   "cell_type": "code",
   "execution_count": 14,
   "metadata": {},
   "outputs": [
    {
     "data": {
      "application/vnd.jupyter.widget-view+json": {
       "model_id": "411505e2312d44de828c4e1fe3afb8c2",
       "version_major": 2,
       "version_minor": 0
      },
      "text/plain": [
       "Widget(value='<iframe src=\"http://localhost:61960/index.html?ui=P_0x24aaf1f9950_7&reconnect=auto\" class=\"pyvis…"
      ]
     },
     "metadata": {},
     "output_type": "display_data"
    }
   ],
   "source": [
    "# create a viewer to see the scene\n",
    "viewer = graphics.Viewer3D(cameras=[cam], objects=[obj])\n",
    "viewer.plotter.camera.position = [0.8, -2.7, 2]\n",
    "viewer.plotter.camera.focal_point = [0.53, 0, 0]\n",
    "viewer.plotter.camera.up = [0, 0.6, 0.79]\n",
    "viewer.show()"
   ]
  },
  {
   "cell_type": "code",
   "execution_count": 15,
   "metadata": {},
   "outputs": [],
   "source": [
    "# move the camera around or change its parameters\n",
    "cam.orbit(-30, obj.center)\n",
    "cam.update_aperture(8)\n",
    "cam.focus_on()\n",
    "\n",
    "# when viewer.update() is called, the existing viewer will show the changes \n",
    "viewer.update()"
   ]
  },
  {
   "cell_type": "markdown",
   "metadata": {},
   "source": [
    "### Show properties"
   ]
  },
  {
   "cell_type": "code",
   "execution_count": 16,
   "metadata": {},
   "outputs": [],
   "source": [
    "#to show a property\n",
    "viewer.set_active_scalars(\"resolution\")"
   ]
  },
  {
   "cell_type": "code",
   "execution_count": 20,
   "metadata": {},
   "outputs": [
    {
     "name": "stdout",
     "output_type": "stream",
     "text": [
      "Normals                 x_all                   z_all                   angle_height_all        pix_j_all               in_view_b               sampling_distance_all   diffraction_diameter_alldepth_error_std_all     visible_sharp_b         \n",
      "TCoords                 x                       z                       angle_height            pix_j                   in_view                 sampling_distance       diffraction_diameter    depth_error_std         visible_sharp           \n",
      "visible_b               y_all                   angle_width_all         pix_i_all               facing_b                resolution_all          defocus_diameter_all    blur_spot_diameter_all  sharp_b                 nb_views                \n",
      "visible                 y                       angle_width             pix_i                   facing                  resolution              defocus_diameter        blur_spot_diameter      sharp                   \n"
     ]
    }
   ],
   "source": [
    "# to list the properties use either obj.point_data.keys() or obj.point_data\n",
    "fields = obj.point_data.keys()\n",
    "for c in [fields[i::4] for i in range(4)]:\n",
    "    print(\"\".join([f\"{c_i:<24}\" for c_i in c]))"
   ]
  },
  {
   "cell_type": "code",
   "execution_count": null,
   "metadata": {},
   "outputs": [],
   "source": []
  }
 ],
 "metadata": {
  "kernelspec": {
   "display_name": "pypho_install",
   "language": "python",
   "name": "python3"
  },
  "language_info": {
   "codemirror_mode": {
    "name": "ipython",
    "version": 3
   },
   "file_extension": ".py",
   "mimetype": "text/x-python",
   "name": "python",
   "nbconvert_exporter": "python",
   "pygments_lexer": "ipython3",
   "version": "3.11.13"
  }
 },
 "nbformat": 4,
 "nbformat_minor": 2
}
