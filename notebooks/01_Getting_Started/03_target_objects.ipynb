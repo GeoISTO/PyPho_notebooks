{
 "cells": [
  {
   "cell_type": "markdown",
   "metadata": {},
   "source": [
    "# Target Objects"
   ]
  },
  {
   "cell_type": "markdown",
   "metadata": {},
   "source": [
    "The module target.py provides helper functions to create typical objects to be modelled in geosciences and visualized in the Viewer.\n",
    "\n",
    "These objects are represented by the **TargetObject** class.\n",
    "\n",
    "They can either:\n",
    "* be instantiated as a generic **TargetObject** by providing an existing pyvista 3D object, or\n",
    "* be created as a given predetermined shape (e.g., Sphere, CubeSample, DrillCore)\n",
    "\n",
    "All objects can be created while specifying:\n",
    "* a **translation** to place the object at the desired location\n",
    "* a **rotation** to turn the object"
   ]
  },
  {
   "cell_type": "code",
   "execution_count": 68,
   "metadata": {},
   "outputs": [],
   "source": [
    "# this is to avoid installing the package for demonstration\n",
    "# you can import it directly when installed\n",
    "import sys\n",
    "sys.path.append(\"../../\") # The notebooks are located in a folder next to the library modules\n",
    "import importlib\n",
    "\n",
    "import pypho\n",
    "from pypho.design import target, graphics\n",
    "\n",
    "import pyvista as pv"
   ]
  },
  {
   "cell_type": "code",
   "execution_count": 69,
   "metadata": {},
   "outputs": [],
   "source": [
    "# if necessary, when developping, you can reload this by uncommenting this line\n",
    "_ = importlib.reload(target)\n",
    "_ = importlib.reload(graphics)"
   ]
  },
  {
   "cell_type": "markdown",
   "metadata": {},
   "source": [
    "## Rock Samples"
   ]
  },
  {
   "cell_type": "markdown",
   "metadata": {},
   "source": [
    "Different classes of **TargetObjects** are proposed to represent rock samples:\n",
    "* **Sphere**: a spherical object\n",
    "* **CubeSample**: a parallelepipedoid shape to represent a (rock) sample width given width, height, and depth\n",
    "* **DrillCore**: a cylindrical (rock) sample\n",
    "* **Pebble**: this is a special model with a complex shape which looks like a pebble. It comes with a rock texture, that can also be applied to any other object."
   ]
  },
  {
   "cell_type": "code",
   "execution_count": 70,
   "metadata": {},
   "outputs": [
    {
     "data": {
      "application/vnd.jupyter.widget-view+json": {
       "model_id": "3e3c4c7e49d14c2d895345f0b36c4a5d",
       "version_major": 2,
       "version_minor": 0
      },
      "text/plain": [
       "Widget(value='<iframe src=\"http://localhost:51931/index.html?ui=P_0x16512323410_108&reconnect=auto\" class=\"pyv…"
      ]
     },
     "metadata": {},
     "output_type": "display_data"
    }
   ],
   "source": [
    "# base shape samples\n",
    "sphere = target.Sphere(radius= 0.05, translation= [1,0,0], rotation= [0,0,0])\n",
    "core = target.DrillCore(radius= 0.15, height= 0.25, translation= [1,1,0], rotation= [0,0,0])\n",
    "cube = target.CubeSample(side_lengths = [0.25, 0.3, 0.1], translation= [-1,1,0.1], rotation= [0,90,0])\n",
    "\n",
    "# Viewer\n",
    "viewer = graphics.Viewer3D(objects = [sphere, core, cube])\n",
    "viewer.show()"
   ]
  },
  {
   "cell_type": "code",
   "execution_count": 71,
   "metadata": {},
   "outputs": [
    {
     "data": {
      "application/vnd.jupyter.widget-view+json": {
       "model_id": "8d093258860d498a9d220831297c9227",
       "version_major": 2,
       "version_minor": 0
      },
      "text/plain": [
       "Widget(value='<iframe src=\"http://localhost:51931/index.html?ui=P_0x164f47d2c10_109&reconnect=auto\" class=\"pyv…"
      ]
     },
     "metadata": {},
     "output_type": "display_data"
    }
   ],
   "source": [
    "# Pebble\n",
    "pebble = target.get_pebble_dataset()\n",
    "rock_texture = target.get_rock_texture()\n",
    "pebble.plot(texture= rock_texture)"
   ]
  },
  {
   "cell_type": "markdown",
   "metadata": {},
   "source": [
    "## Outcrops outdor"
   ]
  },
  {
   "cell_type": "markdown",
   "metadata": {},
   "source": [
    "Photogrammetry also proves useful in many outdor configurations, including:\n",
    "* Digital Outcrop modelling\n",
    "* Unmanned Aerial Vehicle (UAV), aka. drone, surveys"
   ]
  },
  {
   "cell_type": "code",
   "execution_count": 72,
   "metadata": {},
   "outputs": [
    {
     "data": {
      "application/vnd.jupyter.widget-view+json": {
       "model_id": "693dd1d79e1948038729a6e66a911fc8",
       "version_major": 2,
       "version_minor": 0
      },
      "text/plain": [
       "Widget(value='<iframe src=\"http://localhost:51931/index.html?ui=P_0x1652e787110_111&reconnect=auto\" class=\"pyv…"
      ]
     },
     "metadata": {},
     "output_type": "display_data"
    }
   ],
   "source": [
    "outcrop = target.Outcrop(\n",
    "    width = 5,\n",
    "    height = 3,\n",
    "    translation= [2,0,0],\n",
    "    rotation= [0,10]\n",
    ")\n",
    "\n",
    "ground = target.Ground(\n",
    "    side_lengths = [8,5],\n",
    "    translation = [-2.1,0,0],\n",
    "    rotation = None\n",
    ")\n",
    "\n",
    "# Viewer\n",
    "viewer = graphics.Viewer3D(objects = [outcrop, ground])\n",
    "viewer.show()"
   ]
  },
  {
   "cell_type": "markdown",
   "metadata": {},
   "source": [
    "## Outcrops indoor"
   ]
  },
  {
   "cell_type": "markdown",
   "metadata": {},
   "source": [
    "Photogrammetry also proves useful in indoor configurations. For this, two objects are provided:\n",
    "* Room: which represents a cubic room viewed from the inside\n",
    "* Well: which represents a cylindrical room viewed from the inside"
   ]
  },
  {
   "cell_type": "code",
   "execution_count": 73,
   "metadata": {},
   "outputs": [
    {
     "data": {
      "application/vnd.jupyter.widget-view+json": {
       "model_id": "fb4efd408b1b4c99b3c31fc61882497f",
       "version_major": 2,
       "version_minor": 0
      },
      "text/plain": [
       "Widget(value='<iframe src=\"http://localhost:51931/index.html?ui=P_0x1651bd5c710_113&reconnect=auto\" class=\"pyv…"
      ]
     },
     "metadata": {},
     "output_type": "display_data"
    }
   ],
   "source": [
    "room = target.Room(\n",
    "    side_lengths = [10,8,3],\n",
    "    translation = None,\n",
    "    rotation = None\n",
    ")\n",
    "\n",
    "# Viewer\n",
    "viewer = graphics.Viewer3D(objects = [room])\n",
    "viewer.show()"
   ]
  },
  {
   "cell_type": "code",
   "execution_count": 74,
   "metadata": {},
   "outputs": [
    {
     "data": {
      "application/vnd.jupyter.widget-view+json": {
       "model_id": "387591ab89994c929624ee6398b7c5c9",
       "version_major": 2,
       "version_minor": 0
      },
      "text/plain": [
       "Widget(value='<iframe src=\"http://localhost:51931/index.html?ui=P_0x165311ac150_115&reconnect=auto\" class=\"pyv…"
      ]
     },
     "metadata": {},
     "output_type": "display_data"
    }
   ],
   "source": [
    "well = target.Well(\n",
    "    radius = 3,\n",
    "    height = 1.5,\n",
    "    translation = None,\n",
    "    rotation = None\n",
    ")\n",
    "\n",
    "# Viewer\n",
    "viewer = graphics.Viewer3D(objects = [well])\n",
    "viewer.show()"
   ]
  },
  {
   "cell_type": "markdown",
   "metadata": {},
   "source": [
    "## Pyvista objects"
   ]
  },
  {
   "cell_type": "code",
   "execution_count": 75,
   "metadata": {},
   "outputs": [
    {
     "data": {
      "application/vnd.jupyter.widget-view+json": {
       "model_id": "652116ed9d7246ee94e8c5042c0d036e",
       "version_major": 2,
       "version_minor": 0
      },
      "text/plain": [
       "Widget(value='<iframe src=\"http://localhost:51931/index.html?ui=P_0x1651232f610_117&reconnect=auto\" class=\"pyv…"
      ]
     },
     "metadata": {},
     "output_type": "display_data"
    }
   ],
   "source": [
    "from pyvista import examples\n",
    "hills = target.TargetObject(examples.load_random_hills())\n",
    "\n",
    "# customize scalar bar\n",
    "sargs = dict(height=0.25, width= 0.05, vertical=True, position_x=0.85, position_y=0.25)\n",
    "\n",
    "# Viewer\n",
    "viewer = graphics.Viewer3D(objects = hills, scalar_bar_args= sargs)\n",
    "viewer.show()"
   ]
  },
  {
   "cell_type": "markdown",
   "metadata": {},
   "source": [
    "# Normals"
   ]
  },
  {
   "cell_type": "markdown",
   "metadata": {},
   "source": [
    "The normals of the objects are set properly."
   ]
  },
  {
   "cell_type": "code",
   "execution_count": 76,
   "metadata": {},
   "outputs": [
    {
     "data": {
      "application/vnd.jupyter.widget-view+json": {
       "model_id": "9000f60a70ce410c8d9c881a40f84cea",
       "version_major": 2,
       "version_minor": 0
      },
      "text/plain": [
       "Widget(value='<iframe src=\"http://localhost:51931/index.html?ui=P_0x1653d91b390_118&reconnect=auto\" class=\"pyv…"
      ]
     },
     "metadata": {},
     "output_type": "display_data"
    },
    {
     "data": {
      "application/vnd.jupyter.widget-view+json": {
       "model_id": "0f51b86298ba43bf9a35e71407b71dac",
       "version_major": 2,
       "version_minor": 0
      },
      "text/plain": [
       "Widget(value='<iframe src=\"http://localhost:51931/index.html?ui=P_0x1653d91cf50_119&reconnect=auto\" class=\"pyv…"
      ]
     },
     "metadata": {},
     "output_type": "display_data"
    },
    {
     "data": {
      "application/vnd.jupyter.widget-view+json": {
       "model_id": "9d9df0c7e3a7452881a0950e52e5c23f",
       "version_major": 2,
       "version_minor": 0
      },
      "text/plain": [
       "Widget(value='<iframe src=\"http://localhost:51931/index.html?ui=P_0x1653d907990_120&reconnect=auto\" class=\"pyv…"
      ]
     },
     "metadata": {},
     "output_type": "display_data"
    },
    {
     "data": {
      "application/vnd.jupyter.widget-view+json": {
       "model_id": "bb480e8c681e44eeae4a9afc0038fcc6",
       "version_major": 2,
       "version_minor": 0
      },
      "text/plain": [
       "Widget(value='<iframe src=\"http://localhost:51931/index.html?ui=P_0x16553c6a990_121&reconnect=auto\" class=\"pyv…"
      ]
     },
     "metadata": {},
     "output_type": "display_data"
    },
    {
     "data": {
      "application/vnd.jupyter.widget-view+json": {
       "model_id": "857ddc19f4f64f92a184ace57814c838",
       "version_major": 2,
       "version_minor": 0
      },
      "text/plain": [
       "Widget(value='<iframe src=\"http://localhost:51931/index.html?ui=P_0x16553c90810_122&reconnect=auto\" class=\"pyv…"
      ]
     },
     "metadata": {},
     "output_type": "display_data"
    },
    {
     "data": {
      "application/vnd.jupyter.widget-view+json": {
       "model_id": "3135e61b74f6421cb2e807cfc73a4bc0",
       "version_major": 2,
       "version_minor": 0
      },
      "text/plain": [
       "Widget(value='<iframe src=\"http://localhost:51931/index.html?ui=P_0x16559096510_123&reconnect=auto\" class=\"pyv…"
      ]
     },
     "metadata": {},
     "output_type": "display_data"
    },
    {
     "data": {
      "application/vnd.jupyter.widget-view+json": {
       "model_id": "e5404505defa4a1eb7e91d160097fe52",
       "version_major": 2,
       "version_minor": 0
      },
      "text/plain": [
       "Widget(value='<iframe src=\"http://localhost:51931/index.html?ui=P_0x1656733d210_124&reconnect=auto\" class=\"pyv…"
      ]
     },
     "metadata": {},
     "output_type": "display_data"
    },
    {
     "data": {
      "application/vnd.jupyter.widget-view+json": {
       "model_id": "42417fb4705e45e7a1fb85ca4a4f2c51",
       "version_major": 2,
       "version_minor": 0
      },
      "text/plain": [
       "Widget(value='<iframe src=\"http://localhost:51931/index.html?ui=P_0x1653d919150_125&reconnect=auto\" class=\"pyv…"
      ]
     },
     "metadata": {},
     "output_type": "display_data"
    }
   ],
   "source": [
    "sphere.plot_normals(mag=0.03, use_every=10)\n",
    "cube.plot_normals(mag=0.03, use_every=1)\n",
    "core.plot_normals(mag=0.03, use_every=2)\n",
    "outcrop.plot_normals(mag=0.3, use_every=1)\n",
    "ground.plot_normals(mag=0.3, use_every=1)\n",
    "room.plot_normals(mag=1, use_every=10)\n",
    "well.plot_normals(mag=1, use_every=10)\n",
    "hills.plot_normals(mag=1, use_every=10)"
   ]
  },
  {
   "cell_type": "markdown",
   "metadata": {},
   "source": [
    "# Texturing"
   ]
  },
  {
   "cell_type": "markdown",
   "metadata": {},
   "source": [
    "All the objects should accept texturing.\n",
    "\n",
    "NB: for objects not defined by Pypho's classes directly, make sure the texture coordinates are set."
   ]
  },
  {
   "cell_type": "code",
   "execution_count": 77,
   "metadata": {},
   "outputs": [],
   "source": [
    "x0, x1,y0, y1, _,_= hills.bounds\n",
    "_ = hills.texture_map_to_plane(inplace= True,\n",
    "                               origin= [x0,y0,0],\n",
    "                               point_u=[x1,y0,0],\n",
    "                               point_v=[x0,y1,0]\n",
    ")"
   ]
  },
  {
   "cell_type": "code",
   "execution_count": 78,
   "metadata": {},
   "outputs": [
    {
     "data": {
      "application/vnd.jupyter.widget-view+json": {
       "model_id": "bddaafccdb11436bb58c5ce10fd1285e",
       "version_major": 2,
       "version_minor": 0
      },
      "text/plain": [
       "Widget(value='<iframe src=\"http://localhost:51931/index.html?ui=P_0x16531198710_127&reconnect=auto\" class=\"pyv…"
      ]
     },
     "metadata": {},
     "output_type": "display_data"
    }
   ],
   "source": [
    "viewer = graphics.Viewer3D(objects=[sphere, \n",
    "                                    core.copy(),\n",
    "                                    cube.copy(), \n",
    "                                    outcrop.copy().translate([10,10,0], return_object= True),\n",
    "                                    ground.copy().translate([10,10,0], return_object= True),\n",
    "                                    room.copy().translate([10,-10,0], return_object= True),\n",
    "                                    well.copy().translate([10,3,0], return_object= True),\n",
    "                                    target.TargetObject(hills, deep_copy= True).translate([-14,-10,0], return_object= True)],\n",
    "                           target_object_texture= target.get_rock_texture()\n",
    "                           )\n",
    "viewer.show()"
   ]
  },
  {
   "cell_type": "code",
   "execution_count": null,
   "metadata": {},
   "outputs": [],
   "source": []
  }
 ],
 "metadata": {
  "kernelspec": {
   "display_name": "pypho",
   "language": "python",
   "name": "python3"
  },
  "language_info": {
   "codemirror_mode": {
    "name": "ipython",
    "version": 3
   },
   "file_extension": ".py",
   "mimetype": "text/x-python",
   "name": "python",
   "nbconvert_exporter": "python",
   "pygments_lexer": "ipython3",
   "version": "3.11.9"
  }
 },
 "nbformat": 4,
 "nbformat_minor": 2
}
